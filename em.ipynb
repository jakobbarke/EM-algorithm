{
 "cells": [
  {
   "cell_type": "code",
   "execution_count": 107,
   "metadata": {},
   "outputs": [],
   "source": [
    "import pandas as pd\n",
    "import numpy as np\n",
    "import matplotlib.pyplot as plt\n",
    "import scipy.stats as st\n",
    "import random\n",
    "import scipy"
   ]
  },
  {
   "cell_type": "markdown",
   "metadata": {},
   "source": [
    "First, I'll read in the data and the labels and print a random example from each of the two classes."
   ]
  },
  {
   "cell_type": "code",
   "execution_count": 230,
   "metadata": {},
   "outputs": [
    {
     "data": {
      "text/plain": [
       "(1990, 784)"
      ]
     },
     "execution_count": 230,
     "metadata": {},
     "output_type": "execute_result"
    }
   ],
   "source": [
    "data = np.loadtxt('data.dat')\n",
    "data = data.T\n",
    "data.shape"
   ]
  },
  {
   "cell_type": "code",
   "execution_count": 231,
   "metadata": {},
   "outputs": [
    {
     "data": {
      "text/plain": [
       "(1990,)"
      ]
     },
     "execution_count": 231,
     "metadata": {},
     "output_type": "execute_result"
    }
   ],
   "source": [
    "true_labels = np.loadtxt('label.dat')\n",
    "true_labels.shape"
   ]
  },
  {
   "cell_type": "code",
   "execution_count": 234,
   "metadata": {},
   "outputs": [
    {
     "data": {
      "image/png": "[encoded data removed]",
      "text/plain": [
       "<Figure size 432x288 with 1 Axes>"
      ]
     },
     "metadata": {},
     "output_type": "display_data"
    },
    {
     "data": {
      "image/png": "[encoded data removed]",
      "text/plain": [
       "<Figure size 432x288 with 1 Axes>"
      ]
     },
     "metadata": {},
     "output_type": "display_data"
    }
   ],
   "source": [
    "for j in [2.0,6.0]:    \n",
    "    indices = [i for i, x in enumerate(list(true_labels)) if x == j]\n",
    "    index = random.choice(indices)\n",
    "    pic = data[index]\n",
    "    new_pic = np.reshape(pic, [28,28], order='F')\n",
    "    plt.imshow(new_pic)\n",
    "    plt.show()"
   ]
  },
  {
   "cell_type": "code",
   "execution_count": 248,
   "metadata": {},
   "outputs": [],
   "source": [
    "k = 2\n",
    "m = data.shape[0]\n",
    "p = data.shape[1]"
   ]
  },
  {
   "cell_type": "markdown",
   "metadata": {},
   "source": [
    "Next, I'm going to define all of the functions that I use throughout the EM algorithm.\n",
    "\n",
    "First, I define a function called pdf, which takes in the parameters of x, mu, and cov. This function returns the probability of $x$ given $\\mu$ and $\\sum$ for a Gaussian. The function takes the form of:\n",
    "\n",
    "$$\\mathcal{N}(X|\\mu,\\Sigma) =  \\frac{1}{det(\\Sigma)^{1/2}(2\\pi)^{d/2}}exp(\\frac{-1}{2}(x-\\mu)^{T}\\Sigma^{-1}(x-mu))$$\n",
    "\n",
    "For computation sake, I removed the $(2\\pi)^{d/2}$ from the bottom half of the first fraction."
   ]
  },
  {
   "cell_type": "code",
   "execution_count": 249,
   "metadata": {},
   "outputs": [],
   "source": [
    "def pdf(x, mu, cov):\n",
    "    first = 1 / (np.linalg.det(cov)**(1/2))\n",
    "    second = (-1/2) * ((x-mu).T@(np.linalg.inv(cov)))@((x-mu))\n",
    "    return float(first * np.exp(second))"
   ]
  },
  {
   "cell_type": "markdown",
   "metadata": {},
   "source": [
    "Next, I defined a function called loglikelihood, which finds the log likelihood for the EM. I use this function to check the log-likelihood after each iteration of EM to see if the algorithm is improving and/or converging. It looks like this:\n",
    "\n",
    "$$\\log (\\pi_{1}\\mathcal{N}(X_{1}|\\mu_{1},\\Sigma_{1})+\\pi_{2}\\mathcal{N}(X_{2}|\\mu_{2},\\Sigma_{2}))$$"
   ]
  },
  {
   "cell_type": "code",
   "execution_count": 250,
   "metadata": {},
   "outputs": [],
   "source": [
    "def loglikelihood(x):\n",
    "    return np.log(pi[0]*pdf(x, mus[0], covs[0])+pi[1]*pdf(x, mus[1], covs[1]))"
   ]
  },
  {
   "cell_type": "markdown",
   "metadata": {},
   "source": [
    "Next, I define the E-step part of the EM algorithm. The E-step looks like:\n",
    "\n",
    "$$\\tau_{i}^{k}=\\frac{\\pi_{k}\\mathcal{N}(X_{k}|\\mu_{k},\\Sigma_{1})}{\\sum_{1}^{{k}'}\\pi_{{k}'}\\mathcal{N}(X_{{k}'}|\\mu_{{k}'},\\Sigma_{{k}'})}$$\n",
    "\n",
    "To implement it in python, I loop through the data and calculate $\\tau_{i}^{k}$ for each data point and assign it to the ith row and kth column of my variable tau."
   ]
  },
  {
   "cell_type": "code",
   "execution_count": 251,
   "metadata": {},
   "outputs": [],
   "source": [
    "def estep(pi):\n",
    "    tau = np.zeros((m,2))\n",
    "    vpdf = np.vectorize(pdf)\n",
    "    for i in range(m):\n",
    "        \n",
    "        p1 = pi[0]*pdf(data[i], mus[0], covs[0])\n",
    "        p2 = pi[1]*pdf(data[i], mus[1], covs[1])\n",
    "        \n",
    "        bottom = p1+p2\n",
    "        tau[i,0] = p1/bottom\n",
    "        tau[i,1] = p2/bottom\n",
    "        \n",
    "    return tau"
   ]
  },
  {
   "cell_type": "markdown",
   "metadata": {},
   "source": [
    "Next, we update our paramenters in the M step. The updates are:\n",
    "\n",
    "$$\\pi_{k}=\\frac{\\sum_{1}^{i}\\tau_{i}^{k}}{m}$$\n",
    "$$\\mu_{k}=\\frac{\\sum_{1}^{i}\\tau_{i}^{k}x_{i}}{\\sum_{1}^{i}\\tau_{i}^{k}}$$\n",
    "$$\\Sigma_{k}=\\frac{\\sum_{1}^{i}\\tau_{i}^{k}(x_{i}-\\mu_{k})(x_{i}-\\mu_{k})^{T}}{\\sum_{1}^{i}\\tau_{i}^{k}}$$"
   ]
  },
  {
   "cell_type": "code",
   "execution_count": 252,
   "metadata": {},
   "outputs": [],
   "source": [
    "def mstep(tau,mus):\n",
    "    # update pi\n",
    "    sums_tau = [sum(x) for x in zip(*tau)]\n",
    "    new_pi = [x/m for x in sums_tau]\n",
    "\n",
    "    bottom1 = sums_tau[0]\n",
    "    bottom2 = sums_tau[1]\n",
    "    \n",
    "    # update mu and sigma\n",
    "    new_mus = []\n",
    "    new_covs = []\n",
    "    \n",
    "    # mu\n",
    "    topmu1 = sum(tau[i,0]*data[i] for i in range(m))\n",
    "    topmu2 = sum(tau[i,1]*data[i] for i in range(m))\n",
    "    \n",
    "    new_mus.append(topmu1/bottom1)\n",
    "    new_mus.append(topmu2/bottom2)\n",
    "    \n",
    "    #sigma\n",
    "    topsigma1 = sum(tau[i,0] * np.outer(data[i]-mus[0],(data[i]-mus[0]).T) for i in range(m))\n",
    "    topsigma2 = sum(tau[i,1] * np.outer(data[i]-mus[1],(data[i]-mus[1]).T) for i in range(m))\n",
    "    \n",
    "    new_covs1 = (topsigma1/bottom1)\n",
    "    new_covs2 = (topsigma2/bottom2)\n",
    "    \n",
    "    N = covs[0].shape[0]; value = 1\n",
    "    b = np.zeros((N, N))\n",
    "    np.fill_diagonal(b, value)\n",
    "    new_covs1 = new_covs1+b\n",
    "    new_covs2 = new_covs2+b\n",
    "    \n",
    "    new_covs.append(new_covs1)\n",
    "    new_covs.append(new_covs2)\n",
    "\n",
    "    return new_pi,new_mus,new_covs"
   ]
  },
  {
   "cell_type": "markdown",
   "metadata": {},
   "source": [
    "Now that we have all of the functions defined, we're ready to begin the EM algorithm.\n",
    "\n",
    "First, we initializatize our parameters $\\mu$ and $\\Sigma$. $\\mu$ is initialized as two random Gaussian vectors with means of 0 and $\\Sigma$ is initialized as two identity matrices. We do two of $\\mu$ and $\\Sigma$ because there are two distributions."
   ]
  },
  {
   "cell_type": "code",
   "execution_count": 253,
   "metadata": {},
   "outputs": [],
   "source": [
    "# Initialization\n",
    "log_likelihoods = []\n",
    "pi = np.array([1/2,1/2])\n",
    "mu1 = np.random.normal(0,size=p)\n",
    "mu2 = np.random.normal(0,size=p)\n",
    "mus = [mu1,mu2]\n",
    "cov1 = np.identity(data.shape[1])\n",
    "cov2 = np.identity(data.shape[1])\n",
    "covs = [cov1,cov2]"
   ]
  },
  {
   "cell_type": "markdown",
   "metadata": {},
   "source": [
    "Before we do any step of the algorithm, let's calculate the initial log-likehood."
   ]
  },
  {
   "cell_type": "code",
   "execution_count": 254,
   "metadata": {},
   "outputs": [
    {
     "name": "stdout",
     "output_type": "stream",
     "text": [
      "-825748.1522651655\n"
     ]
    }
   ],
   "source": [
    "old_log_likelihood = np.sum(np.apply_along_axis(loglikelihood, 1, data))\n",
    "log_likelihoods.append(old_log_likelihood)\n",
    "print(old_log_likelihood)"
   ]
  },
  {
   "cell_type": "markdown",
   "metadata": {},
   "source": [
    "Finally, let's run the EM algorithn for 15 iterations, which is about when the log-likehoods start to converge. At each iteration we update $\\tau$ with the estep, update $\\pi$, $\\mu$, and $\\Sigma$ with the mstep, and then calculate the new log-likehood after that iteration."
   ]
  },
  {
   "cell_type": "code",
   "execution_count": 255,
   "metadata": {},
   "outputs": [
    {
     "name": "stdout",
     "output_type": "stream",
     "text": [
      "You are on iteration 0 and the log-likelihood is -64088.48533050963\n",
      "You are on iteration 1 and the log-likelihood is -57086.46456622839\n",
      "You are on iteration 2 and the log-likelihood is -56566.75234852622\n",
      "You are on iteration 3 and the log-likelihood is -56258.571057131056\n",
      "You are on iteration 4 and the log-likelihood is -56012.03482191624\n",
      "You are on iteration 5 and the log-likelihood is -55803.95538482494\n",
      "You are on iteration 6 and the log-likelihood is -55656.223842310996\n",
      "You are on iteration 7 and the log-likelihood is -55519.45601688301\n",
      "You are on iteration 8 and the log-likelihood is -55389.164775530095\n",
      "You are on iteration 9 and the log-likelihood is -55272.78412661028\n",
      "You are on iteration 10 and the log-likelihood is -55170.26458608153\n",
      "You are on iteration 11 and the log-likelihood is -55066.864397815865\n",
      "You are on iteration 12 and the log-likelihood is -54944.36633649703\n",
      "You are on iteration 13 and the log-likelihood is -54810.729595966324\n",
      "You are on iteration 14 and the log-likelihood is -54688.11544518895\n"
     ]
    }
   ],
   "source": [
    "i = 0\n",
    "while i < 15:\n",
    "    tau = estep(pi)\n",
    "    pi,mus,covs = mstep(tau,mus)\n",
    "    new_log_likelihood = np.sum(np.apply_along_axis(loglikelihood, 1, data))\n",
    "    log_likelihoods.append(new_log_likelihood)\n",
    "    print(f'You are on iteration {i} and the log-likelihood is {new_log_likelihood}')\n",
    "    i += 1"
   ]
  },
  {
   "cell_type": "code",
   "execution_count": 256,
   "metadata": {},
   "outputs": [
    {
     "data": {
      "image/png": "[encoded data removed]",
      "text/plain": [
       "<Figure size 432x288 with 1 Axes>"
      ]
     },
     "metadata": {},
     "output_type": "display_data"
    }
   ],
   "source": [
    "plt.plot(log_likelihoods)\n",
    "plt.xlabel('Iterations')\n",
    "plt.ylabel('Log Likelihoods')\n",
    "plt.show()"
   ]
  },
  {
   "cell_type": "markdown",
   "metadata": {},
   "source": [
    "Now, to check my work, I'm going to take the two mean vectors, transform them into images, and print them. They should look like a 6 and a 2."
   ]
  },
  {
   "cell_type": "code",
   "execution_count": 257,
   "metadata": {},
   "outputs": [
    {
     "data": {
      "image/png": "[encoded data removed]",
      "text/plain": [
       "<Figure size 432x288 with 1 Axes>"
      ]
     },
     "metadata": {},
     "output_type": "display_data"
    }
   ],
   "source": [
    "pic = mus[0]\n",
    "new_pic = np.reshape(pic, [28,28], order='F')\n",
    "plt.imshow(new_pic)\n",
    "plt.show()"
   ]
  },
  {
   "cell_type": "code",
   "execution_count": 258,
   "metadata": {},
   "outputs": [
    {
     "data": {
      "image/png": "[encoded data removed]",
      "text/plain": [
       "<Figure size 432x288 with 1 Axes>"
      ]
     },
     "metadata": {},
     "output_type": "display_data"
    }
   ],
   "source": [
    "pic = mus[1]\n",
    "new_pic = np.reshape(pic, [28,28], order='F')\n",
    "plt.imshow(new_pic)\n",
    "plt.show()"
   ]
  }
 ],
 "metadata": {
  "kernelspec": {
   "display_name": "Python 3",
   "language": "python",
   "name": "python3"
  },
  "language_info": {
   "codemirror_mode": {
    "name": "ipython",
    "version": 3
   },
   "file_extension": ".py",
   "mimetype": "text/x-python",
   "name": "python",
   "nbconvert_exporter": "python",
   "pygments_lexer": "ipython3",
   "version": "3.6.5"
  }
 },
 "nbformat": 4,
 "nbformat_minor": 4
}
